{
  "nbformat": 4,
  "nbformat_minor": 0,
  "metadata": {
    "colab": {
      "provenance": [],
      "include_colab_link": true
    },
    "kernelspec": {
      "name": "python3",
      "display_name": "Python 3"
    },
    "language_info": {
      "name": "python"
    }
  },
  "cells": [
    {
      "cell_type": "markdown",
      "metadata": {
        "id": "view-in-github",
        "colab_type": "text"
      },
      "source": [
        "<a href=\"https://colab.research.google.com/github/HenryWatson11/WaveDetectorInator3000/blob/main/WaveDetetorModelMK2.ipynb\" target=\"_parent\"><img src=\"https://colab.research.google.com/assets/colab-badge.svg\" alt=\"Open In Colab\"/></a>"
      ]
    },
    {
      "cell_type": "code",
      "execution_count": null,
      "metadata": {
        "id": "nRHDTVuJu6g6"
      },
      "outputs": [],
      "source": [
        "import matplotlib\n",
        "import keras\n",
        "matplotlib.use(\"Agg\")\n",
        "from keras.preprocessing.image import ImageDataGenerator\n",
        "from matplotlib import pyplot as plt\n",
        "import numpy as np\n",
        "import random\n",
        "import os\n",
        "from matplotlib import pyplot as plt\n",
        "\n"
      ]
    },
    {
      "cell_type": "code",
      "source": [
        "!pip install piexif"
      ],
      "metadata": {
        "colab": {
          "base_uri": "https://localhost:8080/"
        },
        "id": "0YwcJd3zwT7u",
        "outputId": "648fd0d6-193c-4d4b-9d63-83536165a0be"
      },
      "execution_count": null,
      "outputs": [
        {
          "output_type": "stream",
          "name": "stdout",
          "text": [
            "Collecting piexif\n",
            "  Downloading piexif-1.1.3-py2.py3-none-any.whl (20 kB)\n",
            "Installing collected packages: piexif\n",
            "Successfully installed piexif-1.1.3\n"
          ]
        }
      ]
    },
    {
      "cell_type": "code",
      "source": [
        "from google.colab import drive\n",
        "drive.mount('/content/drive', force_remount=True)\n",
        "\n",
        "import os\n",
        "os.listdir(\"./drive/MyDrive/Wave Detector Images\")"
      ],
      "metadata": {
        "colab": {
          "base_uri": "https://localhost:8080/"
        },
        "id": "oJQkeB9Ew8Np",
        "outputId": "41846656-0fd7-4f09-b6ad-4d0c4f16446e"
      },
      "execution_count": null,
      "outputs": [
        {
          "output_type": "stream",
          "name": "stdout",
          "text": [
            "Mounted at /content/drive\n"
          ]
        },
        {
          "output_type": "execute_result",
          "data": {
            "text/plain": [
              "['Test', 'Train']"
            ]
          },
          "metadata": {},
          "execution_count": 3
        }
      ]
    },
    {
      "cell_type": "code",
      "source": [
        "from keras.layers import Dense, Activation, Flatten"
      ],
      "metadata": {
        "id": "bIyXZsI8AbDb"
      },
      "execution_count": null,
      "outputs": []
    },
    {
      "cell_type": "code",
      "source": [
        "##BASIC MODEL\n",
        "\n",
        "from tensorflow.keras.applications import VGG16\n",
        "from tensorflow.keras.preprocessing.image import ImageDataGenerator\n",
        "from tensorflow.keras.models import Sequential\n",
        "from tensorflow.keras.layers import Conv2D, MaxPooling2D, Flatten, Dense\n",
        "\n",
        "\n",
        "base_model = VGG16(weights='imagenet', include_top=False, input_shape=(224, 224, 3))\n",
        "\n",
        "# Freeze the pre-trained layers\n",
        "for layer in base_model.layers:\n",
        "    layer.trainable = False\n",
        "\n",
        "# Data augmentation and normalization\n",
        "train_datagen = ImageDataGenerator(rescale=1./255, shear_range=0.2, zoom_range=0.2, horizontal_flip=True)\n",
        "test_datagen = ImageDataGenerator(rescale=1./255)\n",
        "\n",
        "# Flow training images in batches of 32 using train_datagen generator\n",
        "train_generator = train_datagen.flow_from_directory('./drive/MyDrive/Wave Detector Images/Train', target_size=(224, 224), batch_size=32, class_mode='categorical')\n",
        "\n",
        "# Build CNN model\n",
        "model = Sequential()\n",
        "model.add(Conv2D(32, (3, 3), input_shape=(224, 224, 3), activation='relu'))\n",
        "model.add(MaxPooling2D(pool_size=(2, 2)))\n",
        "model.add(Flatten())\n",
        "model.add(Dense(128, activation='relu'))\n",
        "model.add(Dense(4, activation='softmax'))\n",
        "\n",
        "# Compile the model\n",
        "model.compile(optimizer='adam', loss='categorical_crossentropy', metrics=['accuracy'])\n",
        "\n",
        "# Train the model\n",
        "model.fit(train_generator, epochs=10)\n",
        "\n",
        "# Evaluate on the test set\n",
        "test_generator = test_datagen.flow_from_directory('./drive/MyDrive/Wave Detector Images/Test', target_size=(224, 224), batch_size=32, class_mode='categorical')\n",
        "test_loss, test_acc = model.evaluate(test_generator)\n",
        "print(f'Test accuracy: {test_acc}')"
      ],
      "metadata": {
        "colab": {
          "base_uri": "https://localhost:8080/"
        },
        "id": "cHZWHcB_-2TA",
        "outputId": "f196378e-53a3-4b19-cc54-75c23fcb6ecc"
      },
      "execution_count": null,
      "outputs": [
        {
          "output_type": "stream",
          "name": "stdout",
          "text": [
            "Found 93 images belonging to 4 classes.\n",
            "Epoch 1/10\n",
            "3/3 [==============================] - 11s 3s/step - loss: 36.1540 - accuracy: 0.3548\n",
            "Epoch 2/10\n",
            "3/3 [==============================] - 6s 2s/step - loss: 20.5266 - accuracy: 0.3656\n",
            "Epoch 3/10\n",
            "3/3 [==============================] - 9s 2s/step - loss: 16.9274 - accuracy: 0.4516\n",
            "Epoch 4/10\n",
            "3/3 [==============================] - 6s 2s/step - loss: 11.5390 - accuracy: 0.3763\n",
            "Epoch 5/10\n",
            "3/3 [==============================] - 7s 2s/step - loss: 6.0373 - accuracy: 0.3978\n",
            "Epoch 6/10\n",
            "3/3 [==============================] - 6s 2s/step - loss: 4.6829 - accuracy: 0.5806\n",
            "Epoch 7/10\n",
            "3/3 [==============================] - 6s 2s/step - loss: 3.3808 - accuracy: 0.3978\n",
            "Epoch 8/10\n",
            "3/3 [==============================] - 9s 2s/step - loss: 1.6173 - accuracy: 0.6129\n",
            "Epoch 9/10\n",
            "3/3 [==============================] - 6s 2s/step - loss: 1.0575 - accuracy: 0.6022\n",
            "Epoch 10/10\n",
            "3/3 [==============================] - 6s 2s/step - loss: 0.9364 - accuracy: 0.6344\n",
            "Found 23 images belonging to 4 classes.\n",
            "1/1 [==============================] - 1s 688ms/step - loss: 1.3508 - accuracy: 0.4783\n",
            "Test accuracy: 0.47826087474823\n"
          ]
        }
      ]
    },
    {
      "cell_type": "code",
      "source": [
        "##OLD FEATURE EXTRACTION AND PIKL FILE CONVERSION (NO LONGER USED)\n",
        "\n",
        "from keras.preprocessing.image import load_img, img_to_array\n",
        "from keras.applications.vgg16 import preprocess_input\n",
        "from keras.applications.vgg16 import VGG16\n",
        "from keras.models import Model\n",
        "from pickle import dump\n",
        "import os\n",
        "\n",
        "# Function to extract features using VGG16 model\n",
        "def extract_features(directory):\n",
        "    model = VGG16()\n",
        "    model = Model(inputs=model.inputs, outputs=model.layers[-2].output)\n",
        "    features = dict()\n",
        "\n",
        "    for filename in os.listdir(directory):\n",
        "        path = os.path.join(directory, filename)\n",
        "        try:\n",
        "            #print(f\"Processing image: {filename}\")\n",
        "\n",
        "            image = load_img(path, target_size=(224, 224))\n",
        "            image = img_to_array(image)\n",
        "            image = image.reshape((1, image.shape[0], image.shape[1], image.shape[2]))\n",
        "            image = preprocess_input(image)\n",
        "            feature = model.predict(image, verbose=0)\n",
        "            image_id = filename.split('.')[0]\n",
        "            features[image_id] = feature\n",
        "        except Exception as e:\n",
        "            print(f\"Error processing image {filename}: {str(e)}\")\n",
        "\n",
        "    return features\n",
        "\n",
        "# Extract features for the training dataset\n",
        "train_features1 = extract_features('./drive/MyDrive/Wave Detector Images/Train/1')\n",
        "train_features3 = extract_features('./drive/MyDrive/Wave Detector Images/Train/3')\n",
        "train_features5 = extract_features('./drive/MyDrive/Wave Detector Images/Train/5')\n",
        "train_features7 = extract_features('./drive/MyDrive/Wave Detector Images/Train/7')\n",
        "\n"
      ],
      "metadata": {
        "id": "AEDnDE6N8Fb6"
      },
      "execution_count": null,
      "outputs": []
    },
    {
      "cell_type": "code",
      "source": [
        "##NO LONGER USED\n",
        "features_array = np.array(train_features1)"
      ],
      "metadata": {
        "id": "_jWNsbWZ-r6I"
      },
      "execution_count": null,
      "outputs": []
    },
    {
      "cell_type": "code",
      "source": [
        "##NO LONGER USED\n",
        "print(features_array.shape)"
      ],
      "metadata": {
        "id": "cGpKKvpo-9e8"
      },
      "execution_count": null,
      "outputs": []
    },
    {
      "cell_type": "code",
      "source": [
        "##NO LONGER USED\n",
        "test_features1 = extract_features('./drive/MyDrive/Wave Detector Images/Test/1')\n",
        "test_features3 = extract_features('./drive/MyDrive/Wave Detector Images/Test/3')\n",
        "test_features5 = extract_features('./drive/MyDrive/Wave Detector Images/Test/5')\n",
        "test_features7 = extract_features('./drive/MyDrive/Wave Detector Images/Test/7')"
      ],
      "metadata": {
        "id": "COk5_4fFEh9d"
      },
      "execution_count": null,
      "outputs": []
    },
    {
      "cell_type": "code",
      "source": [
        "##NO LONGER USED\n",
        "print(test_features1)"
      ],
      "metadata": {
        "id": "e-bKcAcp3q-D"
      },
      "execution_count": null,
      "outputs": []
    },
    {
      "cell_type": "code",
      "source": [
        "##ATTEMPTED CONVERVSION TO NUMPY FROM PIKL NO LONGER USED\n",
        "X_train = []\n",
        "y_train = []\n",
        "x = 1\n",
        "grand_features = [train_features1.values(), train_features3.values(), train_features5.values(), train_features7.values()]\n",
        "for gf in grand_features:\n",
        "  for features in gf:\n",
        "    X_train.append(features)\n",
        "    y_train.append(x)\n",
        "  x = x + 2\n",
        "X_train = np.array(X_train)\n",
        "y_train = np.array(y_train)\n",
        "\n",
        "X_train = X_train.reshape((93, 4096))"
      ],
      "metadata": {
        "id": "Wb6QV3Wj-qQP"
      },
      "execution_count": null,
      "outputs": []
    },
    {
      "cell_type": "code",
      "source": [
        "##NO LONGER USED\n",
        "print(X_train)"
      ],
      "metadata": {
        "colab": {
          "base_uri": "https://localhost:8080/"
        },
        "id": "PV52pOzm3dxd",
        "outputId": "b0c9be55-3cc2-4d69-a7cd-5879db5440d8"
      },
      "execution_count": null,
      "outputs": [
        {
          "output_type": "stream",
          "name": "stdout",
          "text": [
            "[[0.         0.54783565 0.80448085 ... 1.4006131  0.         0.        ]\n",
            " [0.         1.2917182  1.090375   ... 2.3968258  0.         0.        ]\n",
            " [0.         0.         1.9170331  ... 0.86083233 0.         0.        ]\n",
            " ...\n",
            " [0.56703514 0.         1.3879606  ... 0.         0.         1.1612408 ]\n",
            " [0.3669699  0.         0.03711605 ... 0.         0.         0.        ]\n",
            " [1.7006311  0.         0.5967729  ... 0.         0.         0.        ]]\n"
          ]
        }
      ]
    },
    {
      "cell_type": "code",
      "source": [
        "##NO LONGER USED\n",
        "print(y_train)"
      ],
      "metadata": {
        "colab": {
          "base_uri": "https://localhost:8080/"
        },
        "id": "yqXd026A3jJ8",
        "outputId": "0477e2f0-cc44-4205-86e4-b4cd525b83d8"
      },
      "execution_count": null,
      "outputs": [
        {
          "output_type": "stream",
          "name": "stdout",
          "text": [
            "[1 1 1 1 1 1 1 1 1 1 1 1 1 1 1 1 1 1 1 1 1 1 1 1 1 1 1 1 1 1 1 1 3 3 3 3 3\n",
            " 3 3 3 3 3 3 3 3 3 3 3 3 3 3 3 3 3 3 3 3 3 3 3 3 3 3 3 3 3 3 3 3 3 3 3 3 3\n",
            " 3 3 3 5 5 5 5 5 5 5 5 5 5 5 5 5 5 7 7]\n"
          ]
        }
      ]
    },
    {
      "cell_type": "code",
      "source": [
        "##NO LONGER USED\n",
        "print(X_train.shape)"
      ],
      "metadata": {
        "colab": {
          "base_uri": "https://localhost:8080/"
        },
        "id": "z-ucQIKeG-LG",
        "outputId": "57552bd4-0a95-4ca1-ea51-7e376cab2ccd"
      },
      "execution_count": null,
      "outputs": [
        {
          "output_type": "stream",
          "name": "stdout",
          "text": [
            "(93, 4096)\n"
          ]
        }
      ]
    },
    {
      "cell_type": "code",
      "source": [
        "##ATTEMPTED CONVERSION TO NUMPY FROM PIKL NO LONGER USED\n",
        "X_test = []\n",
        "y_test = []\n",
        "x = 1\n",
        "grand_features_test = [test_features1.values, test_features3.values, test_features5.values, test_features7.values]\n",
        "for gf2 in grand_features_test:\n",
        "  for featurez in gf2:\n",
        "    X_test.append(featurez)\n",
        "    y_test.append(x)\n",
        "  x = x + 2\n",
        "X_test = np.array(X_test)\n",
        "y_test = np.array(y_test)\n",
        "\n"
      ],
      "metadata": {
        "id": "jev26sA0EyAB",
        "colab": {
          "base_uri": "https://localhost:8080/",
          "height": 268
        },
        "outputId": "cc0602a5-93e9-4df4-9c90-14596f07531a"
      },
      "execution_count": null,
      "outputs": [
        {
          "output_type": "error",
          "ename": "AttributeError",
          "evalue": "ignored",
          "traceback": [
            "\u001b[0;31m---------------------------------------------------------------------------\u001b[0m",
            "\u001b[0;31mAttributeError\u001b[0m                            Traceback (most recent call last)",
            "\u001b[0;32m<ipython-input-86-5fb625223e9c>\u001b[0m in \u001b[0;36m<cell line: 5>\u001b[0;34m()\u001b[0m\n\u001b[1;32m      3\u001b[0m \u001b[0mx\u001b[0m \u001b[0;34m=\u001b[0m \u001b[0;36m1\u001b[0m\u001b[0;34m\u001b[0m\u001b[0;34m\u001b[0m\u001b[0m\n\u001b[1;32m      4\u001b[0m \u001b[0mgrand_features_test\u001b[0m \u001b[0;34m=\u001b[0m \u001b[0;34m[\u001b[0m\u001b[0mtest_features1\u001b[0m\u001b[0;34m.\u001b[0m\u001b[0mvalues\u001b[0m\u001b[0;34m,\u001b[0m \u001b[0mtest_features3\u001b[0m\u001b[0;34m.\u001b[0m\u001b[0mvalues\u001b[0m\u001b[0;34m,\u001b[0m \u001b[0mtest_features5\u001b[0m\u001b[0;34m.\u001b[0m\u001b[0mvalues\u001b[0m\u001b[0;34m,\u001b[0m \u001b[0mtest_features7\u001b[0m\u001b[0;34m.\u001b[0m\u001b[0mvalues\u001b[0m\u001b[0;34m]\u001b[0m\u001b[0;34m\u001b[0m\u001b[0;34m\u001b[0m\u001b[0m\n\u001b[0;32m----> 5\u001b[0;31m \u001b[0mprint\u001b[0m\u001b[0;34m(\u001b[0m\u001b[0mgrand_features_test\u001b[0m\u001b[0;34m.\u001b[0m\u001b[0mlength\u001b[0m\u001b[0;34m)\u001b[0m\u001b[0;34m\u001b[0m\u001b[0;34m\u001b[0m\u001b[0m\n\u001b[0m\u001b[1;32m      6\u001b[0m \u001b[0;32mfor\u001b[0m \u001b[0mgf2\u001b[0m \u001b[0;32min\u001b[0m \u001b[0mgrand_features_test\u001b[0m\u001b[0;34m:\u001b[0m\u001b[0;34m\u001b[0m\u001b[0;34m\u001b[0m\u001b[0m\n\u001b[1;32m      7\u001b[0m   \u001b[0;32mfor\u001b[0m \u001b[0mfeaturez\u001b[0m \u001b[0;32min\u001b[0m \u001b[0mgf2\u001b[0m\u001b[0;34m:\u001b[0m\u001b[0;34m\u001b[0m\u001b[0;34m\u001b[0m\u001b[0m\n",
            "\u001b[0;31mAttributeError\u001b[0m: 'list' object has no attribute 'length'"
          ]
        }
      ]
    },
    {
      "cell_type": "code",
      "source": [
        "##NO LONGER USED\n",
        "print(y_test)"
      ],
      "metadata": {
        "colab": {
          "base_uri": "https://localhost:8080/"
        },
        "id": "p6SxZm-s8yOK",
        "outputId": "8ec099f5-39d7-4e71-a7ae-a3f631f62616"
      },
      "execution_count": null,
      "outputs": [
        {
          "output_type": "stream",
          "name": "stdout",
          "text": [
            "[1 1 3 3 5 5 7 7]\n"
          ]
        }
      ]
    },
    {
      "cell_type": "code",
      "source": [
        "##HARDCODED LABELS\n",
        "y_test = [1, 1, 3, 3, 3, 3, 3, 3, 3, 3, 3, 3, 3, 5, 5, 5, 5, 5, 5, 5, 5, 7, 7]"
      ],
      "metadata": {
        "id": "HjQCBy8kGiPS"
      },
      "execution_count": null,
      "outputs": []
    },
    {
      "cell_type": "code",
      "source": [
        "##HARDCODED LABELS\n",
        "y_train = [1, 1, 1, 1, 1, 1, 1, 1, 1, 1, 1, 1, 1, 1, 1, 1, 1, 1, 1, 1, 1, 1, 1, 1, 1, 1, 1, 1, 1, 1, 1, 1, 3, 3, 3, 3, 3,\n",
        " 3, 3, 3, 3, 3, 3, 3, 3, 3, 3, 3, 3, 3, 3, 3, 3, 3, 3, 3, 3, 3, 3, 3, 3, 3, 3, 3, 3, 3, 3, 3, 3, 3, 3, 3, 3, 3,\n",
        " 3, 3, 3, 5, 5, 5, 5, 5, 5, 5, 5, 5, 5, 5, 5, 5, 5, 7, 7]"
      ],
      "metadata": {
        "id": "mKMqjMCYQmWt"
      },
      "execution_count": null,
      "outputs": []
    },
    {
      "cell_type": "code",
      "source": [
        "##LOGISTIC REGRESSION MODEL AND CONFUSION MATRIX\n",
        "from keras.models import Model\n",
        "from keras.applications.inception_v3 import InceptionV3\n",
        "from sklearn.linear_model import LogisticRegression\n",
        "\n",
        "model2 = InceptionV3(include_top = False, input_shape = (200, 200, 3))\n",
        "model2 = Model(inputs = model.inputs, outputs = model.layers[-1].output)\n",
        "\n",
        "x_train_FE = model.predict(train_generator)\n",
        "x_train_FE = x_train_FE.reshape(x_train_FE.shape[0], -1)\n",
        "\n",
        "print(x_train_FE.shape)\n",
        "\n",
        "x_test_FE = model.predict(test_generator)\n",
        "x_test_FE = x_test_FE.reshape(x_test_FE.shape[0], -1)\n",
        "\n",
        "lr_model2 = LogisticRegression()\n",
        "lr_model2.fit(x_train_FE, y_train)\n",
        "predictions = lr_model2.predict(x_test_FE)\n",
        "from sklearn.metrics import accuracy_score\n",
        "accuracy_score(predictions, y_test)\n",
        "\n",
        "import numpy as np\n",
        "import matplotlib.pyplot as plt\n",
        "from sklearn.metrics import confusion_matrix, ConfusionMatrixDisplay\n",
        "\n",
        "# Assuming y_test contains the true labels for your test data\n",
        "\n",
        "# Calculate the confusion matrix\n",
        "cm = confusion_matrix(y_test, predictions)\n",
        "\n",
        "# Plot the confusion matrix\n",
        "classes = [\"1\", \"3\", \"5\", \"7\"]  # Replace with your actual class labels\n",
        "disp = ConfusionMatrixDisplay(confusion_matrix=cm, display_labels=classes)\n",
        "\n",
        "# Display the confusion matrix\n",
        "fig, ax = plt.subplots(figsize=(8, 8))\n",
        "disp.plot(ax=ax, cmap=plt.cm.Blues, values_format='d')\n",
        "plt.title('Confusion Matrix')\n",
        "plt.show()\n",
        "plt.savefig('confusion_matrix.png')\n",
        "\n"
      ],
      "metadata": {
        "colab": {
          "base_uri": "https://localhost:8080/"
        },
        "id": "g5YZgMrhB0V_",
        "outputId": "9ad2d4d0-beb5-4404-a3a1-53f98181eb2a"
      },
      "execution_count": null,
      "outputs": [
        {
          "output_type": "stream",
          "name": "stdout",
          "text": [
            "3/3 [==============================] - 4s 690ms/step\n",
            "(93, 4)\n",
            "1/1 [==============================] - 0s 381ms/step\n"
          ]
        }
      ]
    },
    {
      "cell_type": "code",
      "source": [
        "#NO LONGER USED\n",
        "dump(train_features1, open('train_features1.pkl', 'wb'))\n",
        "dump(train_features3, open('train_features3.pkl', 'wb'))\n",
        "dump(train_features5, open('train_features5.pkl', 'wb'))\n",
        "dump(train_features7, open('train_features7.pkl', 'wb'))\n",
        "dump(train_features9, open('train_features9.pkl', 'wb'))"
      ],
      "metadata": {
        "id": "hXmB243UfkGD"
      },
      "execution_count": null,
      "outputs": []
    },
    {
      "cell_type": "code",
      "source": [
        "# ATTEMPTED PIKL/NUMPY TO MODEL\n",
        "from pickle import load\n",
        "import numpy as np\n",
        "from keras.models import Sequential\n",
        "from keras.layers import Dense\n",
        "from keras.preprocessing.image import ImageDataGenerator\n",
        "\n",
        "# Load extracted features for each class\n",
        "#train_features1 = load(open('train_features1.pkl', 'rb'))\n",
        "#train_features3 = load(open('train_features3.pkl', 'rb'))\n",
        "#train_features5 = load(open('train_features5.pkl', 'rb'))\n",
        "#train_features7 = load(open('train_features7.pkl', 'rb'))\n",
        "#train_features9 = load(open('train_features9.pkl', 'rb'))\n",
        "\n",
        "# Combine features and labels\n",
        "#X_train = np.concatenate([train_features1, train_features3, train_features5, train_features7, train_features9])\n",
        "#y_train = np.array([1]*len(train_features1) + [3]*len(train_features3) + [5]*len(train_features5) +\n",
        "                   #[7]*len(train_features7) + [9]*len(train_features9))\n",
        "\n",
        "from keras.models import Sequential\n",
        "from keras.layers import Dense\n",
        "\n",
        "# One-hot encode the labels\n",
        "y_train_one_hot = np.zeros((len(y_train), np.max(y_train)+1))\n",
        "y_train_one_hot[np.arange(len(y_train)), y_train] = 1\n",
        "\n",
        "# Build CNN model\n",
        "model = Sequential()\n",
        "model.add(Dense(128, activation='relu', input_shape=(X_train.shape[1],)))  # Corrected input_shape\n",
        "model.add(Dense(np.max(y_train)+1, activation='softmax'))  # Adjust units for the number of classes\n",
        "\n",
        "# Compile the model\n",
        "model.compile(optimizer='adam', loss='categorical_crossentropy', metrics=['accuracy'])\n",
        "\n",
        "# Train the model\n",
        "model.fit(X_train, y_train_one_hot, epochs=10)"
      ],
      "metadata": {
        "id": "g5NvdKRF2Khb",
        "colab": {
          "base_uri": "https://localhost:8080/",
          "height": 471
        },
        "outputId": "91c812fb-9fe0-4d34-95e7-fea13bc74981"
      },
      "execution_count": null,
      "outputs": [
        {
          "output_type": "error",
          "ename": "TypeError",
          "evalue": "ignored",
          "traceback": [
            "\u001b[0;31m---------------------------------------------------------------------------\u001b[0m",
            "\u001b[0;31mTypeError\u001b[0m                                 Traceback (most recent call last)",
            "\u001b[0;32m<ipython-input-54-10d1fbab13ca>\u001b[0m in \u001b[0;36m<cell line: 25>\u001b[0;34m()\u001b[0m\n\u001b[1;32m     23\u001b[0m \u001b[0;31m# Build CNN model\u001b[0m\u001b[0;34m\u001b[0m\u001b[0;34m\u001b[0m\u001b[0m\n\u001b[1;32m     24\u001b[0m \u001b[0mmodel\u001b[0m \u001b[0;34m=\u001b[0m \u001b[0mSequential\u001b[0m\u001b[0;34m(\u001b[0m\u001b[0;34m)\u001b[0m\u001b[0;34m\u001b[0m\u001b[0;34m\u001b[0m\u001b[0m\n\u001b[0;32m---> 25\u001b[0;31m \u001b[0mmodel\u001b[0m\u001b[0;34m.\u001b[0m\u001b[0madd\u001b[0m\u001b[0;34m(\u001b[0m\u001b[0mDense\u001b[0m\u001b[0;34m(\u001b[0m\u001b[0;36m128\u001b[0m\u001b[0;34m,\u001b[0m \u001b[0mactivation\u001b[0m\u001b[0;34m=\u001b[0m\u001b[0;34m'relu'\u001b[0m\u001b[0;34m,\u001b[0m \u001b[0minput_shape\u001b[0m\u001b[0;34m=\u001b[0m\u001b[0;34m(\u001b[0m\u001b[0mX_train\u001b[0m\u001b[0;34m.\u001b[0m\u001b[0mshape\u001b[0m\u001b[0;34m,\u001b[0m\u001b[0;34m)\u001b[0m\u001b[0;34m)\u001b[0m\u001b[0;34m)\u001b[0m\u001b[0;34m\u001b[0m\u001b[0;34m\u001b[0m\u001b[0m\n\u001b[0m\u001b[1;32m     26\u001b[0m \u001b[0mmodel\u001b[0m\u001b[0;34m.\u001b[0m\u001b[0madd\u001b[0m\u001b[0;34m(\u001b[0m\u001b[0mDense\u001b[0m\u001b[0;34m(\u001b[0m\u001b[0mnp\u001b[0m\u001b[0;34m.\u001b[0m\u001b[0mmax\u001b[0m\u001b[0;34m(\u001b[0m\u001b[0my_train\u001b[0m\u001b[0;34m)\u001b[0m\u001b[0;34m+\u001b[0m\u001b[0;36m1\u001b[0m\u001b[0;34m,\u001b[0m \u001b[0mactivation\u001b[0m\u001b[0;34m=\u001b[0m\u001b[0;34m'softmax'\u001b[0m\u001b[0;34m)\u001b[0m\u001b[0;34m)\u001b[0m  \u001b[0;31m# Adjust units for the number of classes\u001b[0m\u001b[0;34m\u001b[0m\u001b[0;34m\u001b[0m\u001b[0m\n\u001b[1;32m     27\u001b[0m \u001b[0;34m\u001b[0m\u001b[0m\n",
            "\u001b[0;32m/usr/local/lib/python3.10/dist-packages/tensorflow/python/trackable/base.py\u001b[0m in \u001b[0;36m_method_wrapper\u001b[0;34m(self, *args, **kwargs)\u001b[0m\n\u001b[1;32m    202\u001b[0m     \u001b[0mself\u001b[0m\u001b[0;34m.\u001b[0m\u001b[0m_self_setattr_tracking\u001b[0m \u001b[0;34m=\u001b[0m \u001b[0;32mFalse\u001b[0m  \u001b[0;31m# pylint: disable=protected-access\u001b[0m\u001b[0;34m\u001b[0m\u001b[0;34m\u001b[0m\u001b[0m\n\u001b[1;32m    203\u001b[0m     \u001b[0;32mtry\u001b[0m\u001b[0;34m:\u001b[0m\u001b[0;34m\u001b[0m\u001b[0;34m\u001b[0m\u001b[0m\n\u001b[0;32m--> 204\u001b[0;31m       \u001b[0mresult\u001b[0m \u001b[0;34m=\u001b[0m \u001b[0mmethod\u001b[0m\u001b[0;34m(\u001b[0m\u001b[0mself\u001b[0m\u001b[0;34m,\u001b[0m \u001b[0;34m*\u001b[0m\u001b[0margs\u001b[0m\u001b[0;34m,\u001b[0m \u001b[0;34m**\u001b[0m\u001b[0mkwargs\u001b[0m\u001b[0;34m)\u001b[0m\u001b[0;34m\u001b[0m\u001b[0;34m\u001b[0m\u001b[0m\n\u001b[0m\u001b[1;32m    205\u001b[0m     \u001b[0;32mfinally\u001b[0m\u001b[0;34m:\u001b[0m\u001b[0;34m\u001b[0m\u001b[0;34m\u001b[0m\u001b[0m\n\u001b[1;32m    206\u001b[0m       \u001b[0mself\u001b[0m\u001b[0;34m.\u001b[0m\u001b[0m_self_setattr_tracking\u001b[0m \u001b[0;34m=\u001b[0m \u001b[0mprevious_value\u001b[0m  \u001b[0;31m# pylint: disable=protected-access\u001b[0m\u001b[0;34m\u001b[0m\u001b[0;34m\u001b[0m\u001b[0m\n",
            "\u001b[0;32m/usr/local/lib/python3.10/dist-packages/keras/src/utils/traceback_utils.py\u001b[0m in \u001b[0;36merror_handler\u001b[0;34m(*args, **kwargs)\u001b[0m\n\u001b[1;32m     68\u001b[0m             \u001b[0;31m# To get the full stack trace, call:\u001b[0m\u001b[0;34m\u001b[0m\u001b[0;34m\u001b[0m\u001b[0m\n\u001b[1;32m     69\u001b[0m             \u001b[0;31m# `tf.debugging.disable_traceback_filtering()`\u001b[0m\u001b[0;34m\u001b[0m\u001b[0;34m\u001b[0m\u001b[0m\n\u001b[0;32m---> 70\u001b[0;31m             \u001b[0;32mraise\u001b[0m \u001b[0me\u001b[0m\u001b[0;34m.\u001b[0m\u001b[0mwith_traceback\u001b[0m\u001b[0;34m(\u001b[0m\u001b[0mfiltered_tb\u001b[0m\u001b[0;34m)\u001b[0m \u001b[0;32mfrom\u001b[0m \u001b[0;32mNone\u001b[0m\u001b[0;34m\u001b[0m\u001b[0;34m\u001b[0m\u001b[0m\n\u001b[0m\u001b[1;32m     71\u001b[0m         \u001b[0;32mfinally\u001b[0m\u001b[0;34m:\u001b[0m\u001b[0;34m\u001b[0m\u001b[0;34m\u001b[0m\u001b[0m\n\u001b[1;32m     72\u001b[0m             \u001b[0;32mdel\u001b[0m \u001b[0mfiltered_tb\u001b[0m\u001b[0;34m\u001b[0m\u001b[0;34m\u001b[0m\u001b[0m\n",
            "\u001b[0;32m/usr/local/lib/python3.10/dist-packages/tensorflow/python/framework/tensor_shape.py\u001b[0m in \u001b[0;36m__init__\u001b[0;34m(self, value)\u001b[0m\n\u001b[1;32m    215\u001b[0m         \u001b[0mself\u001b[0m\u001b[0;34m.\u001b[0m\u001b[0m_value\u001b[0m \u001b[0;34m=\u001b[0m \u001b[0mint\u001b[0m\u001b[0;34m(\u001b[0m\u001b[0mvalue\u001b[0m\u001b[0;34m.\u001b[0m\u001b[0m__index__\u001b[0m\u001b[0;34m(\u001b[0m\u001b[0;34m)\u001b[0m\u001b[0;34m)\u001b[0m\u001b[0;34m\u001b[0m\u001b[0;34m\u001b[0m\u001b[0m\n\u001b[1;32m    216\u001b[0m       \u001b[0;32mexcept\u001b[0m \u001b[0mAttributeError\u001b[0m\u001b[0;34m:\u001b[0m\u001b[0;34m\u001b[0m\u001b[0;34m\u001b[0m\u001b[0m\n\u001b[0;32m--> 217\u001b[0;31m         raise TypeError(\n\u001b[0m\u001b[1;32m    218\u001b[0m             \u001b[0;34m\"Dimension value must be integer or None or have \"\u001b[0m\u001b[0;34m\u001b[0m\u001b[0;34m\u001b[0m\u001b[0m\n\u001b[1;32m    219\u001b[0m             \"an __index__ method, got value '{0!r}' with type '{1!r}'\".format(\n",
            "\u001b[0;31mTypeError\u001b[0m: Dimension value must be integer or None or have an __index__ method, got value '(93,)' with type '<class 'tuple'>'"
          ]
        }
      ]
    },
    {
      "cell_type": "code",
      "source": [
        "import matplotlib.pyplot as plt\n",
        "\n",
        "# Data\n",
        "wave_heights = ['0-2 feet', '2-4 feet', '4-6 feet', '8-10 feet']\n",
        "wave_counts = [32, 45, 14, 2]\n",
        "\n",
        "# Plotting the bar chart\n",
        "plt.figure(figsize=(8, 6))\n",
        "plt.bar(wave_heights, wave_counts, color='blue')\n",
        "plt.title('Wave Height Distribution')\n",
        "plt.xlabel('Wave Height (feet)')\n",
        "plt.ylabel('Count')\n",
        "plt.show()"
      ],
      "metadata": {
        "id": "jqA8QEpzZw-v",
        "outputId": "1653c6a6-06f1-4c7c-c9d6-785ca21d4c79",
        "colab": {
          "base_uri": "https://localhost:8080/",
          "height": 564
        }
      },
      "execution_count": null,
      "outputs": [
        {
          "output_type": "display_data",
          "data": {
            "text/plain": [
              "<Figure size 800x600 with 1 Axes>"
            ],
            "image/png": "[encoded data removed]"
          },
          "metadata": {}
        }
      ]
    }
  ]
}